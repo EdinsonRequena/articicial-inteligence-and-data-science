{
 "cells": [
  {
   "cell_type": "code",
   "execution_count": 9,
   "id": "corrected-calcium",
   "metadata": {},
   "outputs": [],
   "source": [
    "import requests\n",
    "from bs4 import BeautifulSoup"
   ]
  },
  {
   "cell_type": "code",
   "execution_count": 10,
   "id": "configured-network",
   "metadata": {},
   "outputs": [],
   "source": [
    "URL = 'https://www.pagina12.com.ar/'\n",
    "\n",
    "p12 = requests.get(URL)"
   ]
  },
  {
   "cell_type": "code",
   "execution_count": 11,
   "id": "weird-airfare",
   "metadata": {},
   "outputs": [],
   "source": [
    "s = BeautifulSoup(p12.text, 'html.parser')"
   ]
  },
  {
   "cell_type": "code",
   "execution_count": 29,
   "id": "engaged-discipline",
   "metadata": {},
   "outputs": [],
   "source": [
    "sections = s.find('ul', attrs={'class': 'main-sections'}).find_all('li')"
   ]
  },
  {
   "cell_type": "code",
   "execution_count": 39,
   "id": "mobile-carnival",
   "metadata": {},
   "outputs": [
    {
     "name": "stdout",
     "output_type": "stream",
     "text": [
      "['https://www.pagina12.com.ar/secciones/el-pais', 'https://www.pagina12.com.ar/secciones/economia', 'https://www.pagina12.com.ar/secciones/sociedad', 'https://www.pagina12.com.ar/suplementos/cultura-y-espectaculos', 'https://www.pagina12.com.ar/secciones/deportes', 'https://www.pagina12.com.ar/secciones/el-mundo', 'https://www.pagina12.com.ar/secciones/contratapa']\n"
     ]
    }
   ],
   "source": [
    "main_sections = [section.a.get('href') for section in sections]\n",
    "print(main_sections)"
   ]
  },
  {
   "cell_type": "code",
   "execution_count": null,
   "id": "norwegian-parcel",
   "metadata": {},
   "outputs": [],
   "source": [
    "sec = [requests.get(i) for i in main_sections]\n",
    "s_sec = [BeautifulSoup(i.text, 'html.parser') for i in sec]\n",
    "\n",
    "s0 = s_sec[0].find('a')\n",
    "print(s0)"
   ]
  },
  {
   "cell_type": "code",
   "execution_count": null,
   "id": "satisfactory-final",
   "metadata": {},
   "outputs": [],
   "source": []
  }
 ],
 "metadata": {
  "kernelspec": {
   "display_name": "Python 3",
   "language": "python",
   "name": "python3"
  },
  "language_info": {
   "codemirror_mode": {
    "name": "ipython",
    "version": 3
   },
   "file_extension": ".py",
   "mimetype": "text/x-python",
   "name": "python",
   "nbconvert_exporter": "python",
   "pygments_lexer": "ipython3",
   "version": "3.8.5"
  }
 },
 "nbformat": 4,
 "nbformat_minor": 5
}
