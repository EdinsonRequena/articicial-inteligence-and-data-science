{
 "cells": [
  {
   "cell_type": "markdown",
   "id": "willing-husband",
   "metadata": {},
   "source": [
    "# Pregunta 1A"
   ]
  },
  {
   "cell_type": "markdown",
   "id": "second-kinase",
   "metadata": {},
   "source": [
    "### Cual de las siguientes afirmaciones es CIERTA?\n",
    "\n",
    "\n",
    "* Big Data y Ciencia de datos son lo mismo\n",
    "\n",
    "\n",
    "* Big Data es un subconjunto de Ciencia de Datos\n",
    "\n",
    "\n",
    "* Ciencia de Datos es un subconjunto de Big Data\n",
    "\n",
    "\n",
    "* Big Data y Ciencia de Datos son cosas diferentes que tienen un importante solapamiento"
   ]
  },
  {
   "cell_type": "markdown",
   "id": "considered-cylinder",
   "metadata": {},
   "source": [
    "### Respuesta: \n",
    "\n",
    "* Big Data y Ciencia de Datos son cosas diferentes que tienen un importante solapamiento"
   ]
  }
 ],
 "metadata": {
  "kernelspec": {
   "display_name": "Python 3",
   "language": "python",
   "name": "python3"
  },
  "language_info": {
   "codemirror_mode": {
    "name": "ipython",
    "version": 3
   },
   "file_extension": ".py",
   "mimetype": "text/x-python",
   "name": "python",
   "nbconvert_exporter": "python",
   "pygments_lexer": "ipython3",
   "version": "3.8.5"
  }
 },
 "nbformat": 4,
 "nbformat_minor": 5
}
