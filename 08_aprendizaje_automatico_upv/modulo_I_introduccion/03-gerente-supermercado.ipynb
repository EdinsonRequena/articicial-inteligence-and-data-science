{
 "cells": [
  {
   "cell_type": "markdown",
   "id": "cross-alberta",
   "metadata": {},
   "source": [
    "# Módulo 1: Introducción a la minería de datos y ciencia de datos / 1.2. Minería de Datos y Ciencia de Datos"
   ]
  },
  {
   "cell_type": "markdown",
   "id": "experimental-petite",
   "metadata": {},
   "source": [
    "* Ejemplos:\n",
    "    \n",
    "    * Agente Bancario:\n",
    "    \n",
    "        * Debo ofrecerle una hipoteca a este cliente?\n",
    "\n",
    "\n",
    "    * Gerente de Supermercado:\n",
    "    \n",
    "        * Cuando mis clientes compran huevos, cogen tambien aceites?\n",
    "\n",
    "    * Gerente de Personal:\n",
    "    \n",
    "        * Que tipo de empleados tengo?\n",
    "\n",
    "    * Supervisor de Fabrica:    \n",
    "\n",
    "        * Cuantos fallos para el modulo X esperamos cada mes?"
   ]
  },
  {
   "cell_type": "markdown",
   "id": "hungry-piece",
   "metadata": {},
   "source": [
    "### Patron/Modelo Gerente de Supermercado"
   ]
  },
  {
   "cell_type": "code",
   "execution_count": 94,
   "id": "every-observer",
   "metadata": {},
   "outputs": [
    {
     "name": "stdout",
     "output_type": "stream",
     "text": [
      "Los clientes que lleva huevos tambien llevan aceite en un 60.0%\n"
     ]
    }
   ],
   "source": [
    "import random\n",
    "\n",
    "productos = {\n",
    "    'Huevos': random.choice([True, False]),\n",
    "    'Aceite': random.choice([True, False]),\n",
    "    'Panales': random.choice([True, False]),\n",
    "    'Carne': random.choice([True, False]),\n",
    "    'Pollo': random.choice([True, False])\n",
    "}\n",
    "\n",
    "productos_2 = {\n",
    "    'Huevos': random.choice([True, False]),\n",
    "    'Aceite': random.choice([True, False]),\n",
    "    'Panales': random.choice([True, False]),\n",
    "    'Carne': random.choice([True, False]),\n",
    "    'Pollo': random.choice([True, False])\n",
    "}\n",
    "\n",
    "productos_3 = {\n",
    "    'Huevos': random.choice([True, False]),\n",
    "    'Aceite': random.choice([True, False]),\n",
    "    'Panales': random.choice([True, False]),\n",
    "    'Carne': random.choice([True, False]),\n",
    "    'Pollo': random.choice([True, False])\n",
    "}\n",
    "\n",
    "cesta_1 = [productos['Huevos'], productos_2['Aceite']]\n",
    "cesta_2 = [productos['Huevos'], productos_2['Aceite']]\n",
    "cesta_3 = [productos['Huevos'], productos_3['Aceite']]\n",
    "cesta_4 = [productos['Huevos'], productos_2['Aceite']]\n",
    "cesta_5 = [productos_3['Huevos'], productos_2['Aceite']]\n",
    "\n",
    "\n",
    "cont = 0\n",
    "\n",
    "if cesta_1[0] and cesta_1[1]:\n",
    "    cont += 1\n",
    "if cesta_2[0] and cesta_2[1]:\n",
    "    cont += 1\n",
    "if cesta_3[0] and cesta_3[1]:\n",
    "    cont += 1\n",
    "if cesta_4[0] and cesta_4[1]:\n",
    "    cont += 1\n",
    "if cesta_5[0] and cesta_4[1]:\n",
    "    cont += 1\n",
    "\n",
    "promedio = (cont / 5) * 100\n",
    "\n",
    "si_llevan = f'Los clientes que lleva huevos tambien llevan aceite en un {promedio}%'\n",
    "no_llevan = 'Los clientes que llevan huevos no llevan aceite'\n",
    "\n",
    "print(si_llevan) if cont else print(no_llevan)\n"
   ]
  }
 ],
 "metadata": {
  "kernelspec": {
   "display_name": "Python 3",
   "language": "python",
   "name": "python3"
  },
  "language_info": {
   "codemirror_mode": {
    "name": "ipython",
    "version": 3
   },
   "file_extension": ".py",
   "mimetype": "text/x-python",
   "name": "python",
   "nbconvert_exporter": "python",
   "pygments_lexer": "ipython3",
   "version": "3.8.5"
  }
 },
 "nbformat": 4,
 "nbformat_minor": 5
}
