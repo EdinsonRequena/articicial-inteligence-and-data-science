{
 "cells": [
  {
   "cell_type": "markdown",
   "id": "molecular-billy",
   "metadata": {},
   "source": [
    "```sh\n",
    "$ mkdir ejemplo_venv\n",
    "```\n",
    "\n",
    "```sh\n",
    "$ cd ejemplo_venv\n",
    "```\n",
    "\n",
    "```sh\n",
    "$ git init\n",
    "```\n",
    "\n",
    "```sh\n",
    "$ python3 -m venv venv\n",
    "```\n",
    "\n",
    "```sh\n",
    "$ source venv/bin/activate\n",
    "```"
   ]
  },
  {
   "cell_type": "markdown",
   "id": "prostate-lawyer",
   "metadata": {},
   "source": [
    "### Reto: Crear un alias persistente en Ubuntu\n",
    "\n",
    "```sh\n",
    "$ sudo vim ~/.bashrc\n",
    "```\n",
    "\n",
    "```sh\n",
    "$ alias avenv='source venv/bin/activate'\n",
    "```\n",
    "\n",
    "```sh\n",
    "$ source ~/.bashrc\n",
    "```"
   ]
  }
 ],
 "metadata": {
  "kernelspec": {
   "display_name": "Python 3",
   "language": "python",
   "name": "python3"
  },
  "language_info": {
   "codemirror_mode": {
    "name": "ipython",
    "version": 3
   },
   "file_extension": ".py",
   "mimetype": "text/x-python",
   "name": "python",
   "nbconvert_exporter": "python",
   "pygments_lexer": "ipython3",
   "version": "3.8.5"
  }
 },
 "nbformat": 4,
 "nbformat_minor": 5
}
