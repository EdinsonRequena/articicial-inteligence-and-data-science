{
 "cells": [
  {
   "cell_type": "markdown",
   "id": "engaging-hacker",
   "metadata": {},
   "source": [
    "### Instalar y utilizar Pipenv\n",
    "\n",
    "Pipenv es como pip con vitaminas. Facilita y agiliza enormemente el desarrollo de proyectos en python.\n",
    "Acá les dejo un tutorial de como empezar con Pipenv:\n",
    "\n",
    "```sh\n",
    "$ mkdir carpeta_ejemplo\n",
    "```\n",
    "\n",
    "\n",
    "```sh\n",
    "$ cd carpeta_ejemplo.\n",
    "```\n",
    "\n",
    "\n",
    "Instalamos Pipenv.\n",
    "```sh\n",
    "$ pip install pipenv\n",
    "```\n",
    "\n",
    "Con este comando creamos y activamos automáticamente un entorno virtual (el nombre del entorno sera el mismo que el de la carpeta de nuestro proyecto).\n",
    "```sh\n",
    "$ pipenv shell\n",
    "```\n",
    "\n",
    "Instalamos pandas (o cualquier otro modulo) este comando ademas de instalar el modulo, también creara un archivo llamado Pipfile, dentro de ese archivo estarán todos los módulos y dependencias de nuestro proyecto.\n",
    "```sh\n",
    "$ pipenv install pandas\n",
    "```\n",
    "\n",
    "Podemos ver los módulos instalados dentro de nuestro entorno virtual con:\n",
    "```sh\n",
    "$ cat Pipfile\n",
    "```\n",
    "\n",
    "\n",
    "Si otro desarrollador quiere utilizar nuestro proyecto, lo único que tendrá que hacer es:\n",
    "```sh\n",
    "$ pipenv install Pipfile\n",
    "```\n",
    "\n",
    "Pipenv facilita y agiliza enormenete el desarrollo de software en python.\n",
    "\n",
    "https://pipenv-es.readthedocs.io/es/latest/"
   ]
  },
  {
   "cell_type": "code",
   "execution_count": null,
   "id": "center-shipping",
   "metadata": {},
   "outputs": [],
   "source": []
  }
 ],
 "metadata": {
  "kernelspec": {
   "display_name": "Python 3",
   "language": "python",
   "name": "python3"
  },
  "language_info": {
   "codemirror_mode": {
    "name": "ipython",
    "version": 3
   },
   "file_extension": ".py",
   "mimetype": "text/x-python",
   "name": "python",
   "nbconvert_exporter": "python",
   "pygments_lexer": "ipython3",
   "version": "3.8.5"
  }
 },
 "nbformat": 4,
 "nbformat_minor": 5
}
