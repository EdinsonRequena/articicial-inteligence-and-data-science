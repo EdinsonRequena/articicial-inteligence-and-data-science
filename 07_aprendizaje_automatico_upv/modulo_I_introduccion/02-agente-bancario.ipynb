{
 "cells": [
  {
   "cell_type": "markdown",
   "id": "elegant-dating",
   "metadata": {},
   "source": [
    "# Módulo 1: Introducción a la minería de datos y ciencia de datos / 1.2. Minería de Datos y Ciencia de Datos"
   ]
  },
  {
   "cell_type": "markdown",
   "id": "environmental-piece",
   "metadata": {},
   "source": [
    "* Ejemplos:\n",
    "    \n",
    "    * Agente Bancario:\n",
    "    \n",
    "        * Debo ofrecerle una hipoteca a este cliente?\n",
    "\n",
    "\n",
    "    * Gerente de Supermercado:\n",
    "    \n",
    "        * Cuando mis clientes compran huevos, cogen tambien aceites?\n",
    "\n",
    "    * Gerente de Personal:\n",
    "    \n",
    "        * Que tipo de empleados tengo?\n",
    "\n",
    "    * Supervisor de Fabrica:    \n",
    "\n",
    "        * Cuantos fallos para el modulo X esperamos cada mes?"
   ]
  },
  {
   "cell_type": "markdown",
   "id": "green-lambda",
   "metadata": {},
   "source": [
    "### Patron/Modelo de Agente Bancario"
   ]
  },
  {
   "cell_type": "code",
   "execution_count": 17,
   "id": "ignored-helen",
   "metadata": {},
   "outputs": [
    {
     "name": "stdout",
     "output_type": "stream",
     "text": [
      "Negado!\n"
     ]
    }
   ],
   "source": [
    "import random\n",
    "\n",
    "cuentas_adeudadas = random.randint(0,5)\n",
    "devolucion_credito = random.choice([True, False])\n",
    "salario = random.randint(1500,4000)\n",
    "credito_p = random.randint(0,25)\n",
    "\n",
    "if cuentas_adeudadas:\n",
    "    print('Negado!')\n",
    "elif not cuentas_adeudadas and salario > 2000 or credito_p > 10:\n",
    "    print('Aprobado!')"
   ]
  }
 ],
 "metadata": {
  "kernelspec": {
   "display_name": "Python 3",
   "language": "python",
   "name": "python3"
  },
  "language_info": {
   "codemirror_mode": {
    "name": "ipython",
    "version": 3
   },
   "file_extension": ".py",
   "mimetype": "text/x-python",
   "name": "python",
   "nbconvert_exporter": "python",
   "pygments_lexer": "ipython3",
   "version": "3.8.5"
  }
 },
 "nbformat": 4,
 "nbformat_minor": 5
}
