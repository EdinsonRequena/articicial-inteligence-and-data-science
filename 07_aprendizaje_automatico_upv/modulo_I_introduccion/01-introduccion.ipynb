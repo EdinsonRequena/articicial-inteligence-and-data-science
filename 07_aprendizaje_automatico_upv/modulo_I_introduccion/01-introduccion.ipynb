{
 "cells": [
  {
   "cell_type": "markdown",
   "id": "running-commonwealth",
   "metadata": {},
   "source": [
    "# Introduccion"
   ]
  },
  {
   "cell_type": "markdown",
   "id": "fundamental-slovenia",
   "metadata": {},
   "source": [
    "### Que es todo esto?\n",
    "\n",
    "* Mineria de datos:\n",
    "    * es un campo de la estadística y las ciencias de la computación referido al proceso que intenta descubrir patrones en grandes volúmenes de conjuntos de datos.\n",
    "    * La mineria de datos esta asociada a herramientas de inteligencia empresarial.\n",
    "    \n",
    "\n",
    "\n",
    "* Ciencia de datos\n",
    "    * La ciencia de datos es un campo interdisciplinario que involucra métodos científicos, procesos y sistemas para extraer conocimiento o un mejor entendimiento de datos en sus diferentes formas.\n",
    "    * Esta asociada con una profesion inquistiva.\n",
    "    \n",
    "\n",
    "\n",
    "* Analisis de datos (Inteligente)\n",
    "    * es un área de la informática que trata de generar o adquirir conocimiento. El conocimiento consiste en la destilación de la información que ha sido colectada, clasificada, organizada, integrada, y a la que se añadió valor.\n",
    "    * Parecido a la mineria de datos, usado mayormente para estadistica.\n",
    "\n",
    "\n",
    "\n",
    "* Analisis predictivo (de datos)\n",
    "    * Agrupa una variedad de técnicas estadísticas de modelización, aprendizaje automático y minería de datos que analiza los datos actuales e históricos reales para hacer predicciones acerca del futuro o acontecimientos no conocidos.\n",
    "    \n",
    "\n",
    "\n",
    "* Big Data\n",
    "    * Es un término que hace referencia a conjuntos de datos tan grandes y complejos que precisan de aplicaciones informáticas no tradicionales de procesamiento de datos para tratarlos adecuadamente.\n",
    "    * No todos los proyectos de Big Data requieren analisis.\n",
    "    * No todos los proyectos de ciencia de datos requieren una infraestructura para Big Data.\n",
    "\n",
    "\n",
    "\n",
    "* Extraccion de conocimiento (desde BBDD), KDD\n",
    "    * Es la creación de conocimiento a partir de fuentes estructuradas y no estructuradas. El conocimiento resultante debe estar en un formato legible por máquina e interpretable por máquina y debe representar el conocimiento de una manera que facilite la inferencia.\n",
    "    * Es un termino clasico para enfatizar todo el proceso."
   ]
  }
 ],
 "metadata": {
  "kernelspec": {
   "display_name": "Python 3",
   "language": "python",
   "name": "python3"
  },
  "language_info": {
   "codemirror_mode": {
    "name": "ipython",
    "version": 3
   },
   "file_extension": ".py",
   "mimetype": "text/x-python",
   "name": "python",
   "nbconvert_exporter": "python",
   "pygments_lexer": "ipython3",
   "version": "3.8.5"
  }
 },
 "nbformat": 4,
 "nbformat_minor": 5
}
