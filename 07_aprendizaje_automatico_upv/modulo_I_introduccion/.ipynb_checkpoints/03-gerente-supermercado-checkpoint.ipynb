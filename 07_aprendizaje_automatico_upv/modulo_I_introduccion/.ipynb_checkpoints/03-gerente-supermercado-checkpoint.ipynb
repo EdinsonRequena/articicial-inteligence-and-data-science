{
 "cells": [
  {
   "cell_type": "markdown",
   "id": "grateful-paste",
   "metadata": {},
   "source": [
    "# Módulo 1: Introducción a la minería de datos y ciencia de datos / 1.2. Minería de Datos y Ciencia de Datos"
   ]
  },
  {
   "cell_type": "markdown",
   "id": "strategic-stylus",
   "metadata": {},
   "source": [
    "* Ejemplos:\n",
    "    \n",
    "    * Agente Bancario:\n",
    "    \n",
    "        * Debo ofrecerle una hipoteca a este cliente?\n",
    "\n",
    "\n",
    "    * Gerente de Supermercado:\n",
    "    \n",
    "        * Cuando mis clientes compran huevos, cogen tambien aceites?\n",
    "\n",
    "    * Gerente de Personal:\n",
    "    \n",
    "        * Que tipo de empleados tengo?\n",
    "\n",
    "    * Supervisor de Fabrica:    \n",
    "\n",
    "        * Cuantos fallos para el modulo X esperamos cada mes?"
   ]
  },
  {
   "cell_type": "markdown",
   "id": "forced-polish",
   "metadata": {},
   "source": [
    "### Patron/Modelo Gerente de Supermercado"
   ]
  },
  {
   "cell_type": "code",
   "execution_count": 19,
   "id": "molecular-longer",
   "metadata": {},
   "outputs": [
    {
     "name": "stdout",
     "output_type": "stream",
     "text": [
      "[True, False]\n"
     ]
    }
   ],
   "source": [
    "import random\n",
    "\n",
    "productos = {\n",
    "    'Huevos': random.choice([True, False]),\n",
    "    'Aceite': random.choice([True, False]),\n",
    "    'Panales': random.choice([True, False]),\n",
    "    'Carne': random.choice([True, False]),\n",
    "    'Pollo': random.choice([True, False])\n",
    "}\n",
    "\n",
    "pedido1 = productos['Huevos']\n",
    "pedido2 = productos['Aceite']\n",
    "\n",
    "cliente1 = [pedido1, pedido2]\n",
    "\n",
    "print(cliente1)\n",
    "\n",
    "# Continuar manana..."
   ]
  },
  {
   "cell_type": "code",
   "execution_count": null,
   "id": "amino-commissioner",
   "metadata": {},
   "outputs": [],
   "source": []
  },
  {
   "cell_type": "code",
   "execution_count": null,
   "id": "racial-conservation",
   "metadata": {},
   "outputs": [],
   "source": []
  }
 ],
 "metadata": {
  "kernelspec": {
   "display_name": "Python 3",
   "language": "python",
   "name": "python3"
  },
  "language_info": {
   "codemirror_mode": {
    "name": "ipython",
    "version": 3
   },
   "file_extension": ".py",
   "mimetype": "text/x-python",
   "name": "python",
   "nbconvert_exporter": "python",
   "pygments_lexer": "ipython3",
   "version": "3.8.5"
  }
 },
 "nbformat": 4,
 "nbformat_minor": 5
}
