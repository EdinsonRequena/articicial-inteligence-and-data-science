{
 "cells": [
  {
   "cell_type": "markdown",
   "id": "extra-arcade",
   "metadata": {},
   "source": [
    "# Equema"
   ]
  },
  {
   "cell_type": "markdown",
   "id": "biological-fleet",
   "metadata": {},
   "source": [
    "* Motivación\n",
    "    * Que es todo esto? Sopa de letras\n",
    "\n",
    "\n",
    "* Mineria de datos y ciencia de datos\n",
    "    * Ejemplos de mineria de datos\n",
    "    * El papel de la inteligencia empresarial\n",
    "    * Almacenaje de datos y OLAP\n",
    "    * Ejemplos de ciencia de datos\n",
    "\n",
    "\n",
    "* El proceso de extraccion de conocimiento\n",
    "    * El proceso D2K\n",
    "    * CRISP-DM\n",
    "\n",
    "\n",
    "* Tareas, tecnicas y herramientas\n",
    "    * Tareas\n",
    "    * Tecnicas\n",
    "    * Herramientas"
   ]
  }
 ],
 "metadata": {
  "kernelspec": {
   "display_name": "Python 3",
   "language": "python",
   "name": "python3"
  },
  "language_info": {
   "codemirror_mode": {
    "name": "ipython",
    "version": 3
   },
   "file_extension": ".py",
   "mimetype": "text/x-python",
   "name": "python",
   "nbconvert_exporter": "python",
   "pygments_lexer": "ipython3",
   "version": "3.8.5"
  }
 },
 "nbformat": 4,
 "nbformat_minor": 5
}
