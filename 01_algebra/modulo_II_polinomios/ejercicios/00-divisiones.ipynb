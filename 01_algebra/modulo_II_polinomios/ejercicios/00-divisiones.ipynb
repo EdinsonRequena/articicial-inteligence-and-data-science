{
 "cells": [
  {
   "cell_type": "markdown",
   "id": "remarkable-bermuda",
   "metadata": {},
   "source": [
    "### Ejercicio 1\n",
    "\n",
    "4x^3.y^3/-2xy =\n",
    "\n",
    "-2x^2.y^2"
   ]
  },
  {
   "cell_type": "markdown",
   "id": "sudden-office",
   "metadata": {},
   "source": [
    "### Ejercicio 2\n",
    "\n",
    "125x^7.y^3.z^5 / 25x^4.y^2.z^3 =\n",
    "\n",
    "5x^3.y.z^2"
   ]
  },
  {
   "cell_type": "markdown",
   "id": "conscious-showcase",
   "metadata": {},
   "source": [
    "### Ejercicio 3\n",
    "\n",
    "m^3x^2 . n^2y3 / m^2x^2 . ny^3 =\n",
    "\n",
    "m^x^2 . n^y^3"
   ]
  }
 ],
 "metadata": {
  "kernelspec": {
   "display_name": "Python 3",
   "language": "python",
   "name": "python3"
  },
  "language_info": {
   "codemirror_mode": {
    "name": "ipython",
    "version": 3
   },
   "file_extension": ".py",
   "mimetype": "text/x-python",
   "name": "python",
   "nbconvert_exporter": "python",
   "pygments_lexer": "ipython3",
   "version": "3.8.5"
  }
 },
 "nbformat": 4,
 "nbformat_minor": 5
}
