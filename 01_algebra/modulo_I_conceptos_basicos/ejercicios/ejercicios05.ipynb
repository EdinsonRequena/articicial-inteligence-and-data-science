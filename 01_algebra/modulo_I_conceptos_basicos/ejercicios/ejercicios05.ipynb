{
 "cells": [
  {
   "cell_type": "markdown",
   "id": "under-fiction",
   "metadata": {},
   "source": [
    "1) A un número le quitamos 5"
   ]
  },
  {
   "cell_type": "code",
   "execution_count": 4,
   "id": "curious-player",
   "metadata": {},
   "outputs": [
    {
     "data": {
      "text/plain": [
       "0"
      ]
     },
     "execution_count": 4,
     "metadata": {},
     "output_type": "execute_result"
    }
   ],
   "source": [
    "import random\n",
    "x = random.randint(-20, 20)\n",
    "x - 5"
   ]
  },
  {
   "cell_type": "markdown",
   "id": "compressed-shareware",
   "metadata": {},
   "source": [
    "2) El doble de un número"
   ]
  },
  {
   "cell_type": "code",
   "execution_count": 6,
   "id": "complimentary-bennett",
   "metadata": {},
   "outputs": [
    {
     "data": {
      "text/plain": [
       "10"
      ]
     },
     "execution_count": 6,
     "metadata": {},
     "output_type": "execute_result"
    }
   ],
   "source": [
    "2*x"
   ]
  },
  {
   "cell_type": "markdown",
   "id": "damaged-buffer",
   "metadata": {},
   "source": [
    "3) El cuadrado de un número\n"
   ]
  },
  {
   "cell_type": "code",
   "execution_count": 7,
   "id": "controversial-symphony",
   "metadata": {},
   "outputs": [
    {
     "data": {
      "text/plain": [
       "25"
      ]
     },
     "execution_count": 7,
     "metadata": {},
     "output_type": "execute_result"
    }
   ],
   "source": [
    "x**2"
   ]
  },
  {
   "cell_type": "markdown",
   "id": "signal-object",
   "metadata": {},
   "source": [
    "4) El área de un cuadrado de lado r"
   ]
  },
  {
   "cell_type": "code",
   "execution_count": 10,
   "id": "unsigned-farming",
   "metadata": {},
   "outputs": [
    {
     "data": {
      "text/plain": [
       "225"
      ]
     },
     "execution_count": 10,
     "metadata": {},
     "output_type": "execute_result"
    }
   ],
   "source": [
    "r = random.randint(5, 15)\n",
    "a = r**2\n",
    "a"
   ]
  },
  {
   "cell_type": "markdown",
   "id": "double-headline",
   "metadata": {},
   "source": [
    "5) El precio de un pantalón aumentado un 15%"
   ]
  },
  {
   "cell_type": "code",
   "execution_count": 18,
   "id": "upper-minister",
   "metadata": {},
   "outputs": [
    {
     "data": {
      "text/plain": [
       "100.05"
      ]
     },
     "execution_count": 18,
     "metadata": {},
     "output_type": "execute_result"
    }
   ],
   "source": [
    "p = random.randint(20, 100) # Precio pantalon\n",
    "p + 0.15 * p "
   ]
  },
  {
   "cell_type": "markdown",
   "id": "psychological-maximum",
   "metadata": {},
   "source": [
    "6) El quíntuplo de un número"
   ]
  },
  {
   "cell_type": "code",
   "execution_count": 20,
   "id": "surgical-hormone",
   "metadata": {},
   "outputs": [
    {
     "data": {
      "text/plain": [
       "75"
      ]
     },
     "execution_count": 20,
     "metadata": {},
     "output_type": "execute_result"
    }
   ],
   "source": [
    "r*5"
   ]
  },
  {
   "cell_type": "markdown",
   "id": "greenhouse-replica",
   "metadata": {},
   "source": [
    "6) La suma de un número y su cuadrado"
   ]
  },
  {
   "cell_type": "code",
   "execution_count": 21,
   "id": "durable-soldier",
   "metadata": {},
   "outputs": [
    {
     "data": {
      "text/plain": [
       "30"
      ]
     },
     "execution_count": 21,
     "metadata": {},
     "output_type": "execute_result"
    }
   ],
   "source": [
    "x + (x**2)"
   ]
  },
  {
   "cell_type": "markdown",
   "id": "yellow-electronics",
   "metadata": {},
   "source": [
    "7) El perímetro de un cuadrado de lado r"
   ]
  },
  {
   "cell_type": "code",
   "execution_count": 23,
   "id": "modified-prediction",
   "metadata": {},
   "outputs": [
    {
     "data": {
      "text/plain": [
       "60"
      ]
     },
     "execution_count": 23,
     "metadata": {},
     "output_type": "execute_result"
    }
   ],
   "source": [
    "p = r*4\n",
    "p"
   ]
  },
  {
   "cell_type": "markdown",
   "id": "adjacent-thanks",
   "metadata": {},
   "source": [
    "8) El 17% de un número"
   ]
  },
  {
   "cell_type": "code",
   "execution_count": 27,
   "id": "verbal-trail",
   "metadata": {},
   "outputs": [
    {
     "data": {
      "text/plain": [
       "1.17"
      ]
     },
     "execution_count": 27,
     "metadata": {},
     "output_type": "execute_result"
    }
   ],
   "source": [
    "n = 100\n",
    "porcentaje = (n + 0.17 * n) / 100\n",
    "porcentaje"
   ]
  }
 ],
 "metadata": {
  "kernelspec": {
   "display_name": "Python 3",
   "language": "python",
   "name": "python3"
  },
  "language_info": {
   "codemirror_mode": {
    "name": "ipython",
    "version": 3
   },
   "file_extension": ".py",
   "mimetype": "text/x-python",
   "name": "python",
   "nbconvert_exporter": "python",
   "pygments_lexer": "ipython3",
   "version": "3.8.5"
  }
 },
 "nbformat": 4,
 "nbformat_minor": 5
}
