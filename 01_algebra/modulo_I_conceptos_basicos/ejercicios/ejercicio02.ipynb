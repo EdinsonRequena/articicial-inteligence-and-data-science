{
 "cells": [
  {
   "cell_type": "markdown",
   "id": "acknowledged-change",
   "metadata": {},
   "source": [
    "13) La mitad de un numero mas la cuarta parte de otro numero"
   ]
  },
  {
   "cell_type": "code",
   "execution_count": 2,
   "id": "specified-filling",
   "metadata": {},
   "outputs": [
    {
     "data": {
      "text/plain": [
       "12.0"
      ]
     },
     "execution_count": 2,
     "metadata": {},
     "output_type": "execute_result"
    }
   ],
   "source": [
    "a, b = 4, 40\n",
    "a/2 + b/4"
   ]
  },
  {
   "cell_type": "markdown",
   "id": "laden-office",
   "metadata": {},
   "source": [
    "14) El doble de la suma de dos numeros"
   ]
  },
  {
   "cell_type": "code",
   "execution_count": 6,
   "id": "romantic-antenna",
   "metadata": {},
   "outputs": [
    {
     "data": {
      "text/plain": [
       "88"
      ]
     },
     "execution_count": 6,
     "metadata": {},
     "output_type": "execute_result"
    }
   ],
   "source": [
    "(a+b)*2"
   ]
  },
  {
   "cell_type": "markdown",
   "id": "according-banking",
   "metadata": {},
   "source": [
    "15) El cuadrado de la suma de dos numeros"
   ]
  },
  {
   "cell_type": "code",
   "execution_count": 28,
   "id": "plastic-casino",
   "metadata": {},
   "outputs": [
    {
     "data": {
      "text/plain": [
       "1936"
      ]
     },
     "execution_count": 28,
     "metadata": {},
     "output_type": "execute_result"
    }
   ],
   "source": [
    "(a+b)**2"
   ]
  },
  {
   "cell_type": "markdown",
   "id": "indirect-elements",
   "metadata": {},
   "source": [
    "16) La suma de los cuadrados de dos numeros"
   ]
  },
  {
   "cell_type": "code",
   "execution_count": 31,
   "id": "special-identity",
   "metadata": {},
   "outputs": [
    {
     "data": {
      "text/plain": [
       "1616"
      ]
     },
     "execution_count": 31,
     "metadata": {},
     "output_type": "execute_result"
    }
   ],
   "source": [
    "a**2 + b**2"
   ]
  },
  {
   "cell_type": "markdown",
   "id": "configured-vision",
   "metadata": {},
   "source": [
    "17) La suma de dos numeros consecutivos"
   ]
  },
  {
   "cell_type": "code",
   "execution_count": 13,
   "id": "criminal-invasion",
   "metadata": {},
   "outputs": [
    {
     "data": {
      "text/plain": [
       "9"
      ]
     },
     "execution_count": 13,
     "metadata": {},
     "output_type": "execute_result"
    }
   ],
   "source": [
    "a + (a+1)"
   ]
  },
  {
   "cell_type": "markdown",
   "id": "chemical-marks",
   "metadata": {},
   "source": [
    "18) El producto de tres numeros consecutivos"
   ]
  },
  {
   "cell_type": "code",
   "execution_count": 16,
   "id": "sealed-vampire",
   "metadata": {},
   "outputs": [
    {
     "data": {
      "text/plain": [
       "24"
      ]
     },
     "execution_count": 16,
     "metadata": {},
     "output_type": "execute_result"
    }
   ],
   "source": [
    "x = 1\n",
    "x * (x+1) * (x+2)"
   ]
  },
  {
   "cell_type": "markdown",
   "id": "coordinate-diversity",
   "metadata": {},
   "source": [
    "19) La mitad de la suma de dos numeros"
   ]
  },
  {
   "cell_type": "code",
   "execution_count": 18,
   "id": "loaded-thunder",
   "metadata": {},
   "outputs": [
    {
     "data": {
      "text/plain": [
       "22"
      ]
     },
     "execution_count": 18,
     "metadata": {},
     "output_type": "execute_result"
    }
   ],
   "source": [
    "(a+b)//2"
   ]
  },
  {
   "cell_type": "markdown",
   "id": "competent-indonesia",
   "metadata": {},
   "source": [
    "20) El doble de la resta de dos numeros"
   ]
  },
  {
   "cell_type": "code",
   "execution_count": 24,
   "id": "academic-scenario",
   "metadata": {},
   "outputs": [
    {
     "data": {
      "text/plain": [
       "72"
      ]
     },
     "execution_count": 24,
     "metadata": {},
     "output_type": "execute_result"
    }
   ],
   "source": [
    "(b-a) * 2"
   ]
  },
  {
   "cell_type": "markdown",
   "id": "monthly-triangle",
   "metadata": {},
   "source": [
    "21) La resta de los dobles de dos numeros"
   ]
  },
  {
   "cell_type": "code",
   "execution_count": 26,
   "id": "final-corruption",
   "metadata": {},
   "outputs": [
    {
     "data": {
      "text/plain": [
       "80"
      ]
     },
     "execution_count": 26,
     "metadata": {},
     "output_type": "execute_result"
    }
   ],
   "source": [
    "(b*2) - (a*2)"
   ]
  }
 ],
 "metadata": {
  "kernelspec": {
   "display_name": "Python 3",
   "language": "python",
   "name": "python3"
  },
  "language_info": {
   "codemirror_mode": {
    "name": "ipython",
    "version": 3
   },
   "file_extension": ".py",
   "mimetype": "text/x-python",
   "name": "python",
   "nbconvert_exporter": "python",
   "pygments_lexer": "ipython3",
   "version": "3.8.5"
  }
 },
 "nbformat": 4,
 "nbformat_minor": 5
}
