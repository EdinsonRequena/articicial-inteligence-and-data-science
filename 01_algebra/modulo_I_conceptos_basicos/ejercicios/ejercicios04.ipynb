{
 "cells": [
  {
   "cell_type": "markdown",
   "id": "organized-vector",
   "metadata": {},
   "source": [
    "La granja del tío Paco está en una parcela rectangular de ‘l’ metros de largo y ‘a’ de ancho. En ella conviven ‘c’ cerdos, ‘v’ vacas y ‘g’ gallinas. Se pide:\n",
    "El área de la parcela:\n",
    "La longitud de la valla que rodea la parcela:\n",
    "El número de animales que hay en la granja:\n",
    "El número de patas de todos los cerdos:\n",
    "El número de patas de todas la vacas:\n",
    "El número de patas de todas las gallinas:\n",
    "El número de patas de todos los animales:"
   ]
  },
  {
   "cell_type": "code",
   "execution_count": 11,
   "id": "disturbed-confirmation",
   "metadata": {},
   "outputs": [
    {
     "name": "stdout",
     "output_type": "stream",
     "text": [
      "El area de la parcela es: 33649\n",
      "La longitud de la valla que rodea la parcela es: 740\n",
      "La cantidad de animales es: 116\n",
      "Patas de cerdo: 200\n",
      "Patas de vacas: 196\n",
      "Patas de gallinas: 34\n",
      "Patas de todos los animales: 430\n"
     ]
    }
   ],
   "source": [
    "import random\n",
    "\n",
    "# Declarando variables\n",
    "l = random.randint(100,500) # Longitud\n",
    "a = random.randint(100,500) # Ancho\n",
    "c = random.randint(10,50) # Cerdos\n",
    "v = random.randint(10,50) # Vacas\n",
    "g = random.randint(10,50) # Gallinas\n",
    "\n",
    "area = l * a\n",
    "longitud_valla = (2*l) + (2*a)\n",
    "\n",
    "cantidad_animales = c + v + g\n",
    "patas_cerdos = c*4\n",
    "patas_vacas = v*4\n",
    "patas_gallinas = g*2\n",
    "patas_animales = (c*4) + (v*4) + (g*2)\n",
    "\n",
    "print(f'El area de la parcela es: {area}')\n",
    "print(f'La longitud de la valla que rodea la parcela es: {longitud_valla}')\n",
    "print(f'La cantidad de animales es: {cantidad_animales}')\n",
    "print(f'Patas de cerdo: {patas_cerdos}')\n",
    "print(f'Patas de vacas: {patas_vacas}')\n",
    "print(f'Patas de gallinas: {patas_gallinas}')\n",
    "print(f'Patas de todos los animales: {patas_animales}')"
   ]
  }
 ],
 "metadata": {
  "kernelspec": {
   "display_name": "Python 3",
   "language": "python",
   "name": "python3"
  },
  "language_info": {
   "codemirror_mode": {
    "name": "ipython",
    "version": 3
   },
   "file_extension": ".py",
   "mimetype": "text/x-python",
   "name": "python",
   "nbconvert_exporter": "python",
   "pygments_lexer": "ipython3",
   "version": "3.8.5"
  }
 },
 "nbformat": 4,
 "nbformat_minor": 5
}
