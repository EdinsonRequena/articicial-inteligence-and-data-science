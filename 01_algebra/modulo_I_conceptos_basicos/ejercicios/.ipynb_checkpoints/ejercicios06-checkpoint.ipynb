{
 "cells": [
  {
   "cell_type": "markdown",
   "id": "plastic-probe",
   "metadata": {},
   "source": [
    "Dados dos números, el primero ‘a’ y el segundo ‘b’, se pide:\n",
    "La suma de los dos números:\n",
    "\n",
    "2) La diferencia de los dos números:\n",
    "3) El producto de los dos números:\n",
    "4) El cociente del primero entre el segundo:\n",
    "5) El cociente del segundo entre el primero:\n",
    "6) El doble del primero:\n",
    "7) El doble del primero por el segundo:\n",
    "8) El triple del segundo por el primero:\n",
    "9) El doble de la suma de los dos números:\n",
    "10) El triple de la diferencia de los dos números:"
   ]
  },
  {
   "cell_type": "code",
   "execution_count": 15,
   "id": "honest-marking",
   "metadata": {},
   "outputs": [
    {
     "name": "stdout",
     "output_type": "stream",
     "text": [
      "La suma de los dos numeros:  143\n",
      "La diferencia de los dos numeros:  365\n",
      "El producto de los dos numeros:  -28194\n",
      "El cociente del primero entre el segundo:  -2.2882882882882885\n",
      "El cociente del segundo entre el primero:  -0.43700787401574803\n",
      "El doble del primero:  508\n",
      "El doble del primero por el segundo:  -56388\n",
      "El triple del segundo por el primero:  -84582\n",
      "El doble de la suma de los dos numeros:  286\n",
      "El triple de la diferencia de los dos numeros:  1095\n"
     ]
    }
   ],
   "source": [
    "a, b = 254, -111\n",
    "\n",
    "print('La suma de los dos numeros: ', a+b)\n",
    "print('La diferencia de los dos numeros: ', a-b)\n",
    "print('El producto de los dos numeros: ', a*b)\n",
    "print('El cociente del primero entre el segundo: ', a/b) \n",
    "print('El cociente del segundo entre el primero: ', b/a)\n",
    "print('El doble del primero: ', 2*a)\n",
    "print('El doble del primero por el segundo: ', (2*a)*b)\n",
    "print('El triple del segundo por el primero: ', (3*b)*a)\n",
    "print('El doble de la suma de los dos numeros: ', 2*(a+b))\n",
    "print('El triple de la diferencia de los dos numeros: ', 3*(a-b))"
   ]
  }
 ],
 "metadata": {
  "kernelspec": {
   "display_name": "Python 3",
   "language": "python",
   "name": "python3"
  },
  "language_info": {
   "codemirror_mode": {
    "name": "ipython",
    "version": 3
   },
   "file_extension": ".py",
   "mimetype": "text/x-python",
   "name": "python",
   "nbconvert_exporter": "python",
   "pygments_lexer": "ipython3",
   "version": "3.8.5"
  }
 },
 "nbformat": 4,
 "nbformat_minor": 5
}
